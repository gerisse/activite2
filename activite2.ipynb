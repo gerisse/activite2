{
 "cells": [
  {
   "cell_type": "markdown",
   "metadata": {},
   "source": [
    "# Activité 2"
   ]
  },
  {
   "cell_type": "markdown",
   "metadata": {},
   "source": [
    "## Ajustement linéaire\n",
    "\n",
    "### Généralités\n",
    "Considérons un phénomène physique pour lequel un grandeur $y$ dépend d'une grandeur $x$. Proposer un modèle théorique pour ce phénomène, c'est proposer une loi mathématique de la forme $y = f(x)$ où $f$ est la fonction à déterminer.\n",
    "De l'analyse des résultats d'expérience peut émerger une telle loi. À cet effet, f'observation du nuage de points présentant $x$ en abscisse et $y$ en ordonnée est souvent un point de départ. En particulier, lorsque les points semblent s'aligner, cette étape est indispensable. Sans autre méthode mathématique, elle constitue le seul moyen de justifier, *a priori*, le choix dun *modèle linéaire* pour décrire le phénomène physique à l'aide d'un modèle théorique.\n",
    "L'*ajustement linéaire* consiste à déterminer la relation mathématique la plus pertinente liant $x$ et $y$, au regard de certains critères. Sans entrer dans les détais techniques, nous adoptons le critère des *moindres carrés* qui consiste à déterminer la droite qui passe au voisinage de tous les points de mesures en minimisant la distance au carré de chaque point à sa valeur théorique."
   ]
  },
  {
   "cell_type": "markdown",
   "metadata": {},
   "source": [
    "### Une solution Python"
   ]
  },
  {
   "cell_type": "code",
   "execution_count": null,
   "metadata": {},
   "outputs": [],
   "source": [
    "import numpy as np\n",
    "import pandas as pd\n",
    "import matplotlib.pyplot as plt"
   ]
  },
  {
   "cell_type": "markdown",
   "metadata": {},
   "source": [
    "Pour illustrer notre propos, commençons par lire les points stockés dans le fichier `ajustement.csv`. Ce fichier comporte quatre colonnes :\n",
    "- colonne des abscisses;\n",
    "- colonne des ordonnées;\n",
    "- colonne des incertitudes sur les valeurs en abscisses;\n",
    "- colonne des incertitudes sur les valeurs en ordonnées.\n",
    "\n",
    "### Question\n",
    ">1. Lire les données stockées dans le fichier et affecter à quatre tableaux `x`, `y`, `ux` et `uy` les valeurs de chaque colonne.\n",
    "2. Afficher le nuage de points.\n",
    "3. Pour afficher les barres d'erreur, la fonction `errorbar` du module `matplotlib` est utile.    [https://matplotlib.org/api/_as_gen/matplotlib.pyplot.errorbar.html](https://matplotlib.org/api/_as_gen/matplotlib.pyplot.errorbar.html) "
   ]
  },
  {
   "cell_type": "code",
   "execution_count": null,
   "metadata": {},
   "outputs": [],
   "source": [
    "filename = 'ajustement.csv'\n",
    "data = pd.read_csv(filename, sep=';')\n",
    "x = data['x']\n",
    "y = data['y']\n",
    "ux = data['ux']\n",
    "uy = data['uy']\n",
    "plt.errorbar(x, y, xerr = ux, yerr = uy, fmt = 'none', capsize = 5, ecolor = 'blue')\n",
    "plt.show()"
   ]
  },
  {
   "cell_type": "markdown",
   "metadata": {},
   "source": [
    "L'observation du nuage de points permet raisonnablement d'envisager une relation linéaire entre $x$ et $y$ sous la forme :\n",
    "$$ y = a x + b $$\n",
    "Pour déterminer $a$ et $b$, on va utiliser une fonction `linregress` disponible dans le module `scipy.stats`."
   ]
  },
  {
   "cell_type": "code",
   "execution_count": null,
   "metadata": {},
   "outputs": [],
   "source": [
    "import scipy.stats as stats"
   ]
  },
  {
   "cell_type": "markdown",
   "metadata": {},
   "source": [
    "Cette fonction renvoie un quintuplet. Les trois premières valeurs sont le coefficient directeur $a$, l'ordonnée à l'origine $b$ et le coefficient de corrélation linéaire $r$. Le deux autres paramètres sont ignorés dans l'immédiat. Ainsi, à partir d'un jeu de valeurs `x` et `y`, on écrit :"
   ]
  },
  {
   "cell_type": "code",
   "execution_count": null,
   "metadata": {},
   "outputs": [],
   "source": [
    "a, b, r, _, _ = stats.linregress(x,y)\n",
    "print(f'a = {a:1.3f}')\n",
    "print(f'b = {b:1.3f}')\n",
    "print(f'r = {r:1.3f}')\n",
    "print(alpha, beta)"
   ]
  },
  {
   "cell_type": "markdown",
   "metadata": {},
   "source": [
    "### Question\n",
    "> 4. Sur un même graphe, afficher le nuage de points et la droite d'ajustement."
   ]
  },
  {
   "cell_type": "code",
   "execution_count": null,
   "metadata": {},
   "outputs": [],
   "source": [
    "plt.plot(x, y, 'r+')\n",
    "y_ajust = a * x + b\n",
    "plt.plot(x, y_ajust, 'blue')\n",
    "plt.show()"
   ]
  },
  {
   "cell_type": "markdown",
   "metadata": {},
   "source": [
    "## Quartet d'Anscombe"
   ]
  },
  {
   "cell_type": "markdown",
   "metadata": {},
   "source": [
    "### Généralités\n",
    "Le *quartet d'Anscombe* est la donnée de quatre ensembles de valeurs qui présentent les mêmes propriétés statistiques simples mais qui sont pourtant de nature très différentes. Construites en 1973 par le statisticien Francis Anscombe, elles ont pour vocation de démontrer l'importance de tracer des graphiques avant d'analyser des données (source [wikipédia](https://fr.wikipedia.org/wiki/Quartet_d%27Anscombe))."
   ]
  },
  {
   "cell_type": "markdown",
   "metadata": {},
   "source": [
    "### Lecture des données d'Anscombes"
   ]
  },
  {
   "cell_type": "code",
   "execution_count": null,
   "metadata": {},
   "outputs": [],
   "source": [
    "# lecture des quatre fichiers de points\n",
    "# -> anscombe1.csv\n",
    "# -> anscombe2.csv\n",
    "# -> anscombe3.csv\n",
    "# -> anscombe4.csv\n",
    "import pandas as pd\n",
    "i = 0\n",
    "x = [None] * 4\n",
    "y = [None] * 4\n",
    "xmin, xmax = 1e10, -1e10\n",
    "ymin, ymax = 1e10, -1e10\n",
    "while i < 4:\n",
    "    # nom du fichier\n",
    "    filename = 'anscombe' + str(i+1) + '.csv'\n",
    "    # lecture des données et stockage dans la variable data\n",
    "    data = pd.read_csv(filename, sep = ';')\n",
    "    # \n",
    "    x[i] = data['abscisse']\n",
    "    y[i] = data['ordonnée']\n",
    "    i = i + 1"
   ]
  },
  {
   "cell_type": "code",
   "execution_count": null,
   "metadata": {},
   "outputs": [],
   "source": [
    "print(x[0])"
   ]
  },
  {
   "cell_type": "markdown",
   "metadata": {},
   "source": [
    "### Question\n",
    "> 5. Tracer quatre graphes associés à chaque fichier.\n",
    "6. Pour quel graphe les points semblent-ils alignés ?\n",
    "7. Pour chacun des graphes, calculer le coefficient directeur, l'ordonnée à l'origine et le coefficient de corrélation linéaire. Qu'observe-t-on ? Qu'en conclure ?"
   ]
  },
  {
   "cell_type": "code",
   "execution_count": null,
   "metadata": {},
   "outputs": [],
   "source": []
  },
  {
   "cell_type": "code",
   "execution_count": null,
   "metadata": {},
   "outputs": [],
   "source": [
    "# recherche des extréma\n",
    "xmin = min(x[i].min() for i in range(4)) - 1\n",
    "xmax = max(x[i].max() for i in range(4)) + 1\n",
    "ymin = min(y[i].min() for i in range(4)) - 1\n",
    "ymax = max(y[i].max() for i in range(4)) + 1\n",
    "# affichage des quatre nuages de points\n",
    "for i in range(4):\n",
    "    # fenêtre graphique\n",
    "    plt.xlim([xmin,xmax])\n",
    "    plt.ylim([ymin,ymax])\n",
    "    # tracé\n",
    "    plt.plot(x[i],y[i],'ro')\n",
    "    plt.show()"
   ]
  },
  {
   "cell_type": "markdown",
   "metadata": {},
   "source": [
    "### Statistique élémentaire\n",
    "Le module `scipy.stats` offre un grand nombre de fonctions statistiques. Parmi ces fonctions, citons :\n",
    "- `tmean` qui calcule la valeur moyenne d'un ensemble de valeurs;\n",
    "- `tstd` qui calcule l'écart-type;\n",
    "Pour le quartet d'Anscombe, on observe les résultats suivants."
   ]
  },
  {
   "cell_type": "code",
   "execution_count": null,
   "metadata": {},
   "outputs": [],
   "source": [
    "for i in range(4):\n",
    "    print(f'Fichier {i+1}' )\n",
    "    print(f'Moyenne des x : {stats.tmean(x[i]):1.3f}')\n",
    "    print(f'Moyenne des y : {stats.tmean(y[i]):1.3f}')\n",
    "    print(f'Écart-type sur x : {stats.tstd(x[i]):1.3f}')\n",
    "    print(f'Écart-type sur y : {stats.tstd(y[i]):1.3f}')\n",
    "    print(f'Coefficient de corrélation linéaire : {stats.linregress(x[i],y[i])[2]:1.3f}\\n')"
   ]
  },
  {
   "cell_type": "code",
   "execution_count": null,
   "metadata": {},
   "outputs": [],
   "source": [
    "# quelques calculs avec numpy\n",
    "import numpy as np\n",
    "for i in range(4):\n",
    "    print(f'Fichier {i+1}' )\n",
    "    print(f'Moyenne des x : {np.mean(x[i]):1.3f}')\n",
    "    print(f'Moyenne des y : {np.mean(y[i]):1.3f}')\n",
    "    print(f'Écart-type sur x : {np.std(x[i]):1.3f}')\n",
    "    print(f'Écart-type sur y : {np.std(y[i]):1.3f}')\n",
    "    print(f'Droite d\\'ajustement : {np.polyfit(x[i],y[i],1)}\\n')\n",
    "z = np.polyfit(x[0], y[0], 1)\n",
    "print(z)"
   ]
  },
  {
   "cell_type": "markdown",
   "metadata": {},
   "source": [
    "### Conclusion\n",
    "\n",
    "- Avant de procéder à la détermination de la droite d'ajustement, il convient de construire le graphe du nuage de points pour *voir* si les points semblent être alignés et pour détecter la présence de points aberrants.\n",
    "- Si tel est le cas, les calculs de la régression linéaire peuvent être menés, la courbe de régression devant être superposée au nuage de points pour *valider* la régression.\n",
    "- En l'absence d'outils mathématiques spécifiques, seule la représentation graphique permet de valider ou d'invalider une régression linéaire."
   ]
  }
 ],
 "metadata": {
  "kernelspec": {
   "display_name": "Python 3",
   "language": "python",
   "name": "python3"
  },
  "language_info": {
   "codemirror_mode": {
    "name": "ipython",
    "version": 3
   },
   "file_extension": ".py",
   "mimetype": "text/x-python",
   "name": "python",
   "nbconvert_exporter": "python",
   "pygments_lexer": "ipython3",
   "version": "3.6.8"
  }
 },
 "nbformat": 4,
 "nbformat_minor": 2
}
